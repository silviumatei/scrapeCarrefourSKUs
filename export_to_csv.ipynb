{
 "cells": [
  {
   "cell_type": "code",
   "execution_count": null,
   "id": "03ebc8f6-1c0f-4cb5-be46-73545a7ef4d4",
   "metadata": {},
   "outputs": [],
   "source": [
    "#CONVERT JSON INTO CSV FOR SNACKS\n",
    "import json\n",
    "import pandas as pd\n",
    "import os\n",
    "\n",
    "# Define the directory where your JSON files are located\n",
    "BASE_OUTPUT_DIR = r\"D:\\Docs\\data\"\n",
    "\n",
    "# Define the input JSON file path (assuming the merged JSON file exists here)\n",
    "INPUT_JSON_FILE = os.path.join(BASE_OUTPUT_DIR, \"allSnacksKSA.json\")\n",
    "\n",
    "# Define the output CSV file path\n",
    "OUTPUT_CSV_FILE = os.path.join(BASE_OUTPUT_DIR, \"allSnacksKSA.csv\")\n",
    "\n",
    "# This part is the core logic to convert JSON to CSV\n",
    "def convert_json_to_csv(json_file_path, csv_file_path):\n",
    "    \"\"\"\n",
    "    Reads a JSON file (expected to be a list of dictionaries) and converts it to a CSV file.\n",
    "    \"\"\"\n",
    "    try:\n",
    "        # Check if the input JSON file exists\n",
    "        if not os.path.exists(json_file_path):\n",
    "            print(f\"Error: Input JSON file not found at {json_file_path}. Please ensure it exists.\")\n",
    "            return\n",
    "\n",
    "        # Load the JSON data\n",
    "        with open(json_file_path, 'r', encoding='utf-8') as f:\n",
    "            data = json.load(f)\n",
    "\n",
    "        # Ensure the JSON data is a list of dictionaries, which is suitable for DataFrame conversion\n",
    "        if not isinstance(data, list) or not all(isinstance(item, dict) for item in data):\n",
    "            print(f\"Error: The JSON file {json_file_path} does not contain a list of objects at its root. \"\n",
    "                  f\"Please ensure the JSON structure is compatible with direct CSV conversion.\")\n",
    "            return\n",
    "\n",
    "        # Convert the list of dictionaries to a pandas DataFrame\n",
    "        df = pd.DataFrame(data)\n",
    "\n",
    "        # Export the DataFrame to a CSV file\n",
    "        df.to_csv(csv_file_path, index=False, encoding='utf-8')\n",
    "\n",
    "        print(f\"Successfully generated the code to export JSON data to CSV. \"\n",
    "              f\"The CSV would be saved to: {csv_file_path}\")\n",
    "        print(f\"If executed, it would process {len(df)} records.\")\n",
    "\n",
    "    except json.JSONDecodeError as e:\n",
    "        print(f\"Error decoding JSON from {json_file_path}: {e}. Please check the JSON file's integrity.\")\n",
    "    except Exception as e:\n",
    "        print(f\"An unexpected error occurred during the conversion process: {e}\")\n",
    "\n",
    "if __name__ == \"__main__\":\n",
    "    convert_json_to_csv(INPUT_JSON_FILE, OUTPUT_CSV_FILE)"
   ]
  }
 ],
 "metadata": {
  "kernelspec": {
   "display_name": "Python [conda env:scrape]",
   "language": "python",
   "name": "conda-env-scrape-py"
  },
  "language_info": {
   "codemirror_mode": {
    "name": "ipython",
    "version": 3
   },
   "file_extension": ".py",
   "mimetype": "text/x-python",
   "name": "python",
   "nbconvert_exporter": "python",
   "pygments_lexer": "ipython3",
   "version": "3.11.10"
  }
 },
 "nbformat": 4,
 "nbformat_minor": 5
}
